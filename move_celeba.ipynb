{
 "cells": [
  {
   "cell_type": "code",
   "execution_count": 4,
   "id": "3313ad49-e7fd-48ee-91d7-e45b214c7b3c",
   "metadata": {},
   "outputs": [],
   "source": [
    "import os\n",
    "import shutil"
   ]
  },
  {
   "cell_type": "code",
   "execution_count": 5,
   "id": "f5d01caf-f1f5-4994-9392-3766f529723d",
   "metadata": {},
   "outputs": [],
   "source": [
    "os.chdir('/Users/alisakugusheva/celebahq256_imgs/valid/')"
   ]
  },
  {
   "cell_type": "code",
   "execution_count": 28,
   "id": "bab3788b-c10e-4f69-b588-77cca59e99f4",
   "metadata": {},
   "outputs": [],
   "source": [
    "if 'train' not in os.listdir():\n",
    "    os.mkdir('train')\n",
    "if 'test' not in os.listdir():\n",
    "    os.mkdir('test')"
   ]
  },
  {
   "cell_type": "code",
   "execution_count": 29,
   "id": "43825008-be99-40d6-a318-7f83afd495db",
   "metadata": {},
   "outputs": [],
   "source": [
    "files = os.listdir()"
   ]
  },
  {
   "cell_type": "code",
   "execution_count": 30,
   "id": "b4dbcfd5-12dd-4d3c-8d88-2d2ae1413c75",
   "metadata": {},
   "outputs": [
    {
     "data": {
      "text/plain": [
       "3002"
      ]
     },
     "execution_count": 30,
     "metadata": {},
     "output_type": "execute_result"
    }
   ],
   "source": [
    "len(files)"
   ]
  },
  {
   "cell_type": "code",
   "execution_count": 31,
   "id": "72e2900c-7b53-4b25-859a-af9c0fccb867",
   "metadata": {},
   "outputs": [],
   "source": [
    "imgs = [file for file in files if file != 'test' and file != 'train']"
   ]
  },
  {
   "cell_type": "code",
   "execution_count": 32,
   "id": "b2dcf529-a369-4566-9c7d-cc3763a61dcf",
   "metadata": {},
   "outputs": [
    {
     "data": {
      "text/plain": [
       "3000"
      ]
     },
     "execution_count": 32,
     "metadata": {},
     "output_type": "execute_result"
    }
   ],
   "source": [
    "len(imgs)"
   ]
  },
  {
   "cell_type": "code",
   "execution_count": 33,
   "id": "cf6eec4d-4247-43ba-9ab0-1ee8c2d549eb",
   "metadata": {},
   "outputs": [],
   "source": [
    "train_imgs, test_imgs = imgs[:2000], imgs[2000:]"
   ]
  },
  {
   "cell_type": "code",
   "execution_count": 39,
   "id": "62f5776e-3dc9-44ca-8579-b9e22590fdd8",
   "metadata": {},
   "outputs": [],
   "source": [
    "def move_to_train_test(imgs, img_type='train'):\n",
    "    for img in imgs:\n",
    "        target = img_type\n",
    "        shutil.move(img, target)"
   ]
  },
  {
   "cell_type": "code",
   "execution_count": 35,
   "id": "3e4d016f-b56b-47dd-840c-77984efcca3f",
   "metadata": {},
   "outputs": [],
   "source": [
    "move_to_train_test(train_imgs, 'train')"
   ]
  },
  {
   "cell_type": "code",
   "execution_count": 41,
   "id": "57d54d4f-ee79-4a44-bec9-e2a851b1c9a4",
   "metadata": {},
   "outputs": [],
   "source": [
    "move_to_train_test(test_imgs, 'test')"
   ]
  },
  {
   "cell_type": "code",
   "execution_count": 18,
   "id": "5ff13926-a463-45f7-9a82-08097472b78c",
   "metadata": {},
   "outputs": [],
   "source": [
    "from PIL import Image\n",
    "import numpy as np\n",
    "woman = np.array(Image.open('/Users/alisakugusheva/celebahq256_imgs/valid/test/img_1207.png'))"
   ]
  },
  {
   "cell_type": "code",
   "execution_count": 19,
   "id": "50b0a780-1928-43dd-8f8d-290222057011",
   "metadata": {},
   "outputs": [
    {
     "data": {
      "text/plain": [
       "array([[[213, 204, 190],\n",
       "        [213, 204, 190],\n",
       "        [212, 204, 190],\n",
       "        ...,\n",
       "        [ 23,  32,  63],\n",
       "        [ 23,  33,  63],\n",
       "        [ 22,  31,  62]],\n",
       "\n",
       "       [[213, 204, 190],\n",
       "        [213, 204, 190],\n",
       "        [212, 204, 190],\n",
       "        ...,\n",
       "        [ 22,  31,  63],\n",
       "        [ 20,  30,  61],\n",
       "        [ 22,  31,  63]],\n",
       "\n",
       "       [[214, 205, 191],\n",
       "        [213, 205, 190],\n",
       "        [213, 204, 190],\n",
       "        ...,\n",
       "        [ 22,  31,  63],\n",
       "        [ 21,  31,  62],\n",
       "        [ 23,  32,  64]],\n",
       "\n",
       "       ...,\n",
       "\n",
       "       [[ 11,  11,  10],\n",
       "        [ 12,  11,   9],\n",
       "        [ 15,  14,  11],\n",
       "        ...,\n",
       "        [ 32,  43,  89],\n",
       "        [ 31,  43,  88],\n",
       "        [ 31,  43,  88]],\n",
       "\n",
       "       [[ 13,  13,  12],\n",
       "        [ 14,  14,  11],\n",
       "        [ 16,  15,  12],\n",
       "        ...,\n",
       "        [ 32,  44,  89],\n",
       "        [ 30,  43,  88],\n",
       "        [ 30,  42,  87]],\n",
       "\n",
       "       [[ 12,  12,  11],\n",
       "        [ 16,  15,  13],\n",
       "        [ 18,  18,  14],\n",
       "        ...,\n",
       "        [ 31,  42,  88],\n",
       "        [ 30,  42,  87],\n",
       "        [ 30,  43,  88]]], dtype=uint8)"
      ]
     },
     "execution_count": 19,
     "metadata": {},
     "output_type": "execute_result"
    }
   ],
   "source": [
    "woman"
   ]
  },
  {
   "cell_type": "code",
   "execution_count": 8,
   "id": "f89287e5-7b0a-4b1f-a66d-ed897ce2cab6",
   "metadata": {},
   "outputs": [],
   "source": [
    "os.chdir('test')"
   ]
  },
  {
   "cell_type": "code",
   "execution_count": null,
   "id": "73d9eaea-90a7-4812-acdb-613f84997536",
   "metadata": {},
   "outputs": [],
   "source": []
  }
 ],
 "metadata": {
  "kernelspec": {
   "display_name": "Python 3 (ipykernel)",
   "language": "python",
   "name": "python3"
  },
  "language_info": {
   "codemirror_mode": {
    "name": "ipython",
    "version": 3
   },
   "file_extension": ".py",
   "mimetype": "text/x-python",
   "name": "python",
   "nbconvert_exporter": "python",
   "pygments_lexer": "ipython3",
   "version": "3.9.13"
  }
 },
 "nbformat": 4,
 "nbformat_minor": 5
}
